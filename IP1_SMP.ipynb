{
 "cells": [
  {
   "cell_type": "markdown",
   "metadata": {},
   "source": [
    "# Individual Project 1\n",
    "---\n",
    "**Author:** Sheridan Payne  \n",
    "**Version:** 1.0  \n",
    "**Semester:** Spring 2021\n",
    "\n",
    "This *notebook* contains my solution to **Individual Project 1**\n",
    "\n",
    "- Problem 1: get_data() function\n",
    "- Problem 2: show_table() function\n",
    "- Problem 3: count_lot_type() function\n",
    "- Problem 4: get_column_stats() function"
   ]
  },
  {
   "cell_type": "code",
   "execution_count": 1,
   "metadata": {},
   "outputs": [],
   "source": [
    "import numpy as np\n",
    "import csv\n",
    "from prettytable import PrettyTable"
   ]
  },
  {
   "cell_type": "markdown",
   "metadata": {},
   "source": [
    "#### Problem 1"
   ]
  },
  {
   "cell_type": "code",
   "execution_count": 2,
   "metadata": {},
   "outputs": [],
   "source": [
    "def get_data(file):\n",
    "    '''Accepts a filename and then implements the code to open and read a .csv file into a list'''\n",
    "    with open(file,newline='') as f:\n",
    "        reader = csv.reader(f)\n",
    "        file_list = list(reader)\n",
    "    return file_list"
   ]
  },
  {
   "cell_type": "markdown",
   "metadata": {},
   "source": [
    "#### Problem 2"
   ]
  },
  {
   "cell_type": "code",
   "execution_count": 3,
   "metadata": {},
   "outputs": [],
   "source": [
    "def show_table(lst):\n",
    "    '''Accepts a list and prints a PrettyTable of the data with the first row of the data as the header row'''\n",
    "    p = PrettyTable()\n",
    "    p.clear()\n",
    "    p.field_names = lst[0]\n",
    "    for i in range(1,len(lst)):\n",
    "        p.add_row(lst[i])\n",
    "    print(p)"
   ]
  },
  {
   "cell_type": "code",
   "execution_count": 4,
   "metadata": {},
   "outputs": [
    {
     "name": "stdout",
     "output_type": "stream",
     "text": [
      "+----------+-------------+--------+------------+----------+------------+\n",
      "| OBJECTID |   TYPE_FAC  | LEVELS | TOTAL_SPCS | DAY_RATE | MONTH_RATE |\n",
      "+----------+-------------+--------+------------+----------+------------+\n",
      "|    1     | SURFACE LOT |   0    |     17     |    0     |     55     |\n",
      "|    2     | SURFACE LOT |   0    |    310     |    4     |     70     |\n",
      "|    3     |    GARAGE   |   2    |    150     |    15    |     0      |\n",
      "|    4     | SURFACE LOT |   0    |    276     |    2     |     45     |\n",
      "|    5     |    GARAGE   |   3    |    1252    |    5     |     75     |\n",
      "|    6     |    GARAGE   |   5    |    1233    |    5     |     75     |\n",
      "|    7     | SURFACE LOT |   0    |    567     |    0     |     35     |\n",
      "|    8     | SURFACE LOT |   0    |    680     |    0     |     15     |\n",
      "|    9     |    GARAGE   |   6    |    645     |    7     |     60     |\n",
      "|    10    | SURFACE LOT |   0    |     92     |    5     |     45     |\n",
      "|    11    |    GARAGE   |   7    |    270     |    8     |     85     |\n",
      "|    12    |    GARAGE   |   7    |    482     |    8     |    105     |\n",
      "|    13    |    GARAGE   |   9    |    420     |    6     |     95     |\n",
      "|    14    |    GARAGE   |   6    |    740     |    7     |     85     |\n",
      "|    15    |    GARAGE   |   3    |    200     |    7     |    105     |\n",
      "|    16    |    GARAGE   |   4    |    516     |    12    |     0      |\n",
      "|    17    | SURFACE LOT |   0    |     40     |    7     |    130     |\n",
      "|    18    | SURFACE LOT |   0    |     53     |    7     |    125     |\n",
      "|    19    |    GARAGE   |   9    |    772     |    7     |     85     |\n",
      "|    20    | SURFACE LOT |   0    |    110     |    6     |     85     |\n",
      "|    21    |    GARAGE   |   7    |    483     |    6     |     80     |\n",
      "|    22    | SURFACE LOT |   0    |     53     |    5     |     70     |\n",
      "|    23    |    GARAGE   |   5    |    506     |    7     |     75     |\n",
      "|    24    |    GARAGE   |   6    |    384     |    6     |     70     |\n",
      "|    25    |    GARAGE   |   5    |    1235    |    7     |     75     |\n",
      "|    26    |    GARAGE   |   6    |    560     |    7     |     90     |\n",
      "|    27    | SURFACE LOT |   0    |     29     |    0     |     65     |\n",
      "|    28    | SURFACE LOT |   0    |     76     |    0     |     50     |\n",
      "|    29    | SURFACE LOT |   0    |     32     |    0     |     60     |\n",
      "|    30    |    GARAGE   |   3    |    416     |    16    |     65     |\n",
      "|    31    |    GARAGE   |   8    |    654     |    7     |     85     |\n",
      "|    32    |    GARAGE   |   1    |     85     |    15    |    150     |\n",
      "|    33    | SURFACE LOT |   0    |     15     |    0     |     85     |\n",
      "|    34    | SURFACE LOT |   0    |    177     |    7     |    120     |\n",
      "|    35    | SURFACE LOT |   0    |    244     |    0     |     65     |\n",
      "|    36    | SURFACE LOT |   0    |    117     |   5.25   |     0      |\n",
      "|    37    |    GARAGE   |   4    |    500     |    4     |     55     |\n",
      "|    38    |    GARAGE   |   3    |    220     |    0     |     50     |\n",
      "|    39    | SURFACE LOT |   0    |     17     |    4     |     0      |\n",
      "|    40    |    GARAGE   |   6    |    291     |    7     |     78     |\n",
      "|    41    | SURFACE LOT |   0    |     46     |    5     |     80     |\n",
      "|    42    | SURFACE LOT |   0    |     26     |    4     |     0      |\n",
      "|    43    | SURFACE LOT |   0    |    127     |    4     |     70     |\n",
      "|    44    | SURFACE LOT |   0    |     75     |    4     |     75     |\n",
      "|    45    | SURFACE LOT |   0    |     81     |    8     |     90     |\n",
      "|    46    | SURFACE LOT |   0    |    129     |    4     |     80     |\n",
      "|    47    | SURFACE LOT |   0    |    120     |    5     |     65     |\n",
      "|    48    |    GARAGE   |   5    |    1355    |    5     |     45     |\n",
      "|    49    | SURFACE LOT |   0    |     38     |   3.5    |     65     |\n",
      "|    50    |    GARAGE   |   3    |    126     |    4     |     70     |\n",
      "|    51    |    GARAGE   |   5    |    494     |    12    |     80     |\n",
      "|    52    | SURFACE LOT |   0    |     62     |   5.5    |     80     |\n",
      "|    53    | SURFACE LOT |   0    |     82     |    4     |     59     |\n",
      "|    54    | SURFACE LOT |   0    |     46     |    3     |     55     |\n",
      "|    55    | SURFACE LOT |   0    |    110     |    3     |     55     |\n",
      "|    56    | SURFACE LOT |   0    |     78     |    3     |     55     |\n",
      "|    57    | SURFACE LOT |   0    |     76     |    2     |     30     |\n",
      "|    58    |    GARAGE   |   4    |    330     |    0     |     45     |\n",
      "|    59    | SURFACE LOT |   0    |    108     |   2.25   |     45     |\n",
      "|    60    | SURFACE LOT |   0    |    168     |    4     |     70     |\n",
      "|    61    |    GARAGE   |   5    |    253     |    3     |     45     |\n",
      "|    62    | SURFACE LOT |   0    |    163     |   2.5    |     50     |\n",
      "|    63    | SURFACE LOT |   0    |    154     |    1     |    17.5    |\n",
      "|    64    | SURFACE LOT |   0    |    154     |    1     |    17.5    |\n",
      "|    65    | SURFACE LOT |   0    |     21     |    0     |     20     |\n",
      "|    66    |    GARAGE   |   6    |    962     |    12    |     75     |\n",
      "|    67    |    GARAGE   |   2    |    341     |    7     |     95     |\n",
      "|    68    |    GARAGE   |   3    |    1925    |    12    |     90     |\n",
      "|    69    |    GARAGE   |   4    |    450     |    7     |     85     |\n",
      "|    70    |    GARAGE   |   9    |    731     |    10    |     85     |\n",
      "|    71    |    GARAGE   |   9    |    534     |    7     |     90     |\n",
      "|    72    |    GARAGE   |   5    |    671     |    7     |     80     |\n",
      "|    73    | SURFACE LOT |   0    |    276     |    2     |     45     |\n",
      "|    74    |    GARAGE   |   4    |    701     |    8     |     80     |\n",
      "|    75    | SURFACE LOT |   0    |     33     |    2     |     30     |\n",
      "|    76    |    GARAGE   |   6    |    789     |    0     |    130     |\n",
      "|    77    |    GARAGE   |   1    |    410     |    9     |     85     |\n",
      "|    78    |    GARAGE   |   2    |    700     |    9     |     85     |\n",
      "|    79    | SURFACE LOT |   0    |     72     |    0     |     60     |\n",
      "|    80    | SURFACE LOT |   0    |     65     |    0     |     60     |\n",
      "|    81    | SURFACE LOT |   0    |     47     |    0     |     60     |\n",
      "|    82    | SURFACE LOT |   0    |     40     |    5     |     70     |\n",
      "|    83    | SURFACE LOT |   0    |     71     |   5.5    |     85     |\n",
      "|    84    | SURFACE LOT |   0    |     70     |    4     |     85     |\n",
      "|    85    | SURFACE LOT |   0    |    252     |    0     |     50     |\n",
      "|    86    | SURFACE LOT |   0    |     94     |    5     |     59     |\n",
      "|    87    | SURFACE LOT |   0    |     62     |    9     |     0      |\n",
      "|    88    |    GARAGE   |   1    |     27     |    9     |     0      |\n",
      "|    89    | SURFACE LOT |   0    |     22     |    5     |     80     |\n",
      "|    90    | SURFACE LOT |   0    |    120     |    5     |     80     |\n",
      "|    91    | SURFACE LOT |   0    |     46     |    5     |     80     |\n",
      "|    92    | SURFACE LOT |   0    |     46     |    2     |     0      |\n",
      "|    93    | SURFACE LOT |   0    |    155     |    2     |     35     |\n",
      "|    94    | SURFACE LOT |   0    |     37     |    1     |     20     |\n",
      "|    95    | SURFACE LOT |   0    |     69     |    0     |     20     |\n",
      "|    96    | SURFACE LOT |   0    |    103     |    0     |     65     |\n",
      "+----------+-------------+--------+------------+----------+------------+\n"
     ]
    }
   ],
   "source": [
    "data = get_data('parking.csv')\n",
    "show_table(data)"
   ]
  },
  {
   "cell_type": "markdown",
   "metadata": {},
   "source": [
    "#### Problem 3"
   ]
  },
  {
   "cell_type": "code",
   "execution_count": 5,
   "metadata": {},
   "outputs": [],
   "source": [
    "def count_lot_type(lst,typ):\n",
    "    '''Accepts a list and the lot type, and that returns a typle that contains the lot type and the number of lots of that type'''\n",
    "    lst1 = []\n",
    "    for i in range(1,len(lst)):\n",
    "        lst1.append(data[i][1])\n",
    "    return (typ, lst1.count(typ))"
   ]
  },
  {
   "cell_type": "code",
   "execution_count": 6,
   "metadata": {},
   "outputs": [
    {
     "data": {
      "text/plain": [
       "('SURFACE LOT', 57)"
      ]
     },
     "execution_count": 6,
     "metadata": {},
     "output_type": "execute_result"
    }
   ],
   "source": [
    "count_lot_type(data,'SURFACE LOT')"
   ]
  },
  {
   "cell_type": "markdown",
   "metadata": {},
   "source": [
    "#### Problem 4"
   ]
  },
  {
   "cell_type": "code",
   "execution_count": 7,
   "metadata": {},
   "outputs": [],
   "source": [
    "def get_column_stats(lst,col):\n",
    "    '''Accepts a list and a column position and returns the Max, Min, and Average for the NumPy array of that column'''\n",
    "    if col == 0 or col == 1:\n",
    "        print('Incorrect Column')\n",
    "    else:\n",
    "        q = PrettyTable()\n",
    "        q.clear()\n",
    "        lst2 = []\n",
    "        for i in range(1,len(lst)):\n",
    "            lst2.append(lst[i][col])\n",
    "        lst2_arr = np.array(list(map(float,lst2)))\n",
    "        q.field_names = [' ','Max','Min','Avg']\n",
    "        q.add_row(['TOTAL_SPCS',\n",
    "                  f'{np.max(lst2_arr):.2f}',\n",
    "                  f'{np.min(lst2_arr):.2f}',\n",
    "                  f'{np.mean(lst2_arr):.2f}'\n",
    "                  ])\n",
    "        print(q)"
   ]
  },
  {
   "cell_type": "code",
   "execution_count": 8,
   "metadata": {},
   "outputs": [
    {
     "name": "stdout",
     "output_type": "stream",
     "text": [
      "Incorrect Column\n"
     ]
    }
   ],
   "source": [
    "get_column_stats(data,1)"
   ]
  },
  {
   "cell_type": "code",
   "execution_count": 9,
   "metadata": {},
   "outputs": [
    {
     "name": "stdout",
     "output_type": "stream",
     "text": [
      "+------------+---------+-------+--------+\n",
      "|            |   Max   |  Min  |  Avg   |\n",
      "+------------+---------+-------+--------+\n",
      "| TOTAL_SPCS | 1925.00 | 15.00 | 304.81 |\n",
      "+------------+---------+-------+--------+\n"
     ]
    }
   ],
   "source": [
    "get_column_stats(data,3)"
   ]
  }
 ],
 "metadata": {
  "kernelspec": {
   "display_name": "Python 3",
   "language": "python",
   "name": "python3"
  },
  "language_info": {
   "codemirror_mode": {
    "name": "ipython",
    "version": 3
   },
   "file_extension": ".py",
   "mimetype": "text/x-python",
   "name": "python",
   "nbconvert_exporter": "python",
   "pygments_lexer": "ipython3",
   "version": "3.8.3"
  }
 },
 "nbformat": 4,
 "nbformat_minor": 4
}
